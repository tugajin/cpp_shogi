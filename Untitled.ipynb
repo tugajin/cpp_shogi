{
  "nbformat": 4,
  "nbformat_minor": 0,
  "metadata": {
    "colab": {
      "name": "Untitled",
      "provenance": [],
      "toc_visible": true,
      "authorship_tag": "ABX9TyP0fY92WpcbEFI/7CgvMgaS",
      "include_colab_link": true
    },
    "kernelspec": {
      "name": "python3",
      "display_name": "Python 3"
    }
  },
  "cells": [
    {
      "cell_type": "markdown",
      "metadata": {
        "id": "view-in-github",
        "colab_type": "text"
      },
      "source": [
        "<a href=\"https://colab.research.google.com/github/tugajin/cpp_shogi/blob/master/Untitled.ipynb\" target=\"_parent\"><img src=\"https://colab.research.google.com/assets/colab-badge.svg\" alt=\"Open In Colab\"/></a>"
      ]
    },
    {
      "cell_type": "code",
      "metadata": {
        "id": "OU3MCpzjmI81",
        "colab_type": "code",
        "outputId": "5a72acbe-ec68-4930-a41d-d2cee7dba244",
        "colab": {
          "base_uri": "https://localhost:8080/",
          "height": 34
        }
      },
      "source": [
        "%cd \"/content/drive/My Drive/shogi/cpp_shogi/cpp_shogi/src\""
      ],
      "execution_count": 0,
      "outputs": [
        {
          "output_type": "stream",
          "text": [
            "/content/drive/My Drive/shogi/cpp_shogi/cpp_shogi/src\n"
          ],
          "name": "stdout"
        }
      ]
    },
    {
      "cell_type": "code",
      "metadata": {
        "id": "pKLd5aEerpEI",
        "colab_type": "code",
        "outputId": "894ecc3c-c1dd-4828-eaa5-5aebdb68472b",
        "colab": {
          "base_uri": "https://localhost:8080/",
          "height": 51
        }
      },
      "source": [
        "!pwd"
      ],
      "execution_count": 0,
      "outputs": [
        {
          "output_type": "stream",
          "text": [
            "shell-init: error retrieving current directory: getcwd: cannot access parent directories: No such file or directory\n",
            "pwd: error retrieving current directory: getcwd: cannot access parent directories: No such file or directory\n"
          ],
          "name": "stdout"
        }
      ]
    },
    {
      "cell_type": "code",
      "metadata": {
        "id": "1SCAu3phiQR0",
        "colab_type": "code",
        "outputId": "7b2f87a1-a9a9-4b48-d306-41097ed3183c",
        "colab": {
          "base_uri": "https://localhost:8080/",
          "height": 136
        }
      },
      "source": [
        "!git clone https://github.com/tugajin/cpp_shogi.git"
      ],
      "execution_count": 0,
      "outputs": [
        {
          "output_type": "stream",
          "text": [
            "Cloning into 'cpp_shogi'...\n",
            "remote: Enumerating objects: 151, done.\u001b[K\n",
            "remote: Counting objects:   0% (1/151)\u001b[K\rremote: Counting objects:   1% (2/151)\u001b[K\rremote: Counting objects:   2% (4/151)\u001b[K\rremote: Counting objects:   3% (5/151)\u001b[K\rremote: Counting objects:   4% (7/151)\u001b[K\rremote: Counting objects:   5% (8/151)\u001b[K\rremote: Counting objects:   6% (10/151)\u001b[K\rremote: Counting objects:   7% (11/151)\u001b[K\rremote: Counting objects:   8% (13/151)\u001b[K\rremote: Counting objects:   9% (14/151)\u001b[K\rremote: Counting objects:  10% (16/151)\u001b[K\rremote: Counting objects:  11% (17/151)\u001b[K\rremote: Counting objects:  12% (19/151)\u001b[K\rremote: Counting objects:  13% (20/151)\u001b[K\rremote: Counting objects:  14% (22/151)\u001b[K\rremote: Counting objects:  15% (23/151)\u001b[K\rremote: Counting objects:  16% (25/151)\u001b[K\rremote: Counting objects:  17% (26/151)\u001b[K\rremote: Counting objects:  18% (28/151)\u001b[K\rremote: Counting objects:  19% (29/151)\u001b[K\rremote: Counting objects:  20% (31/151)\u001b[K\rremote: Counting objects:  21% (32/151)\u001b[K\rremote: Counting objects:  22% (34/151)\u001b[K\rremote: Counting objects:  23% (35/151)\u001b[K\rremote: Counting objects:  24% (37/151)\u001b[K\rremote: Counting objects:  25% (38/151)\u001b[K\rremote: Counting objects:  26% (40/151)\u001b[K\rremote: Counting objects:  27% (41/151)\u001b[K\rremote: Counting objects:  28% (43/151)\u001b[K\rremote: Counting objects:  29% (44/151)\u001b[K\rremote: Counting objects:  30% (46/151)\u001b[K\rremote: Counting objects:  31% (47/151)\u001b[K\rremote: Counting objects:  32% (49/151)\u001b[K\rremote: Counting objects:  33% (50/151)\u001b[K\rremote: Counting objects:  34% (52/151)\u001b[K\rremote: Counting objects:  35% (53/151)\u001b[K\rremote: Counting objects:  36% (55/151)\u001b[K\rremote: Counting objects:  37% (56/151)\u001b[K\rremote: Counting objects:  38% (58/151)\u001b[K\rremote: Counting objects:  39% (59/151)\u001b[K\rremote: Counting objects:  40% (61/151)\u001b[K\rremote: Counting objects:  41% (62/151)\u001b[K\rremote: Counting objects:  42% (64/151)\u001b[K\rremote: Counting objects:  43% (65/151)\u001b[K\rremote: Counting objects:  44% (67/151)\u001b[K\rremote: Counting objects:  45% (68/151)\u001b[K\rremote: Counting objects:  46% (70/151)\u001b[K\rremote: Counting objects:  47% (71/151)\u001b[K\rremote: Counting objects:  48% (73/151)\u001b[K\rremote: Counting objects:  49% (74/151)\u001b[K\rremote: Counting objects:  50% (76/151)\u001b[K\rremote: Counting objects:  51% (78/151)\u001b[K\rremote: Counting objects:  52% (79/151)\u001b[K\rremote: Counting objects:  53% (81/151)\u001b[K\rremote: Counting objects:  54% (82/151)\u001b[K\rremote: Counting objects:  55% (84/151)\u001b[K\rremote: Counting objects:  56% (85/151)\u001b[K\rremote: Counting objects:  57% (87/151)\u001b[K\rremote: Counting objects:  58% (88/151)\u001b[K\rremote: Counting objects:  59% (90/151)\u001b[K\rremote: Counting objects:  60% (91/151)\u001b[K\rremote: Counting objects:  61% (93/151)\u001b[K\rremote: Counting objects:  62% (94/151)\u001b[K\rremote: Counting objects:  63% (96/151)\u001b[K\rremote: Counting objects:  64% (97/151)\u001b[K\rremote: Counting objects:  65% (99/151)\u001b[K\rremote: Counting objects:  66% (100/151)\u001b[K\rremote: Counting objects:  67% (102/151)\u001b[K\rremote: Counting objects:  68% (103/151)\u001b[K\rremote: Counting objects:  69% (105/151)\u001b[K\rremote: Counting objects:  70% (106/151)\u001b[K\rremote: Counting objects:  71% (108/151)\u001b[K\rremote: Counting objects:  72% (109/151)\u001b[K\rremote: Counting objects:  73% (111/151)\u001b[K\rremote: Counting objects:  74% (112/151)\u001b[K\rremote: Counting objects:  75% (114/151)\u001b[K\rremote: Counting objects:  76% (115/151)\u001b[K\rremote: Counting objects:  77% (117/151)\u001b[K\rremote: Counting objects:  78% (118/151)\u001b[K\rremote: Counting objects:  79% (120/151)\u001b[K\rremote: Counting objects:  80% (121/151)\u001b[K\rremote: Counting objects:  81% (123/151)\u001b[K\rremote: Counting objects:  82% (124/151)\u001b[K\rremote: Counting objects:  83% (126/151)\u001b[K\rremote: Counting objects:  84% (127/151)\u001b[K\rremote: Counting objects:  85% (129/151)\u001b[K\rremote: Counting objects:  86% (130/151)\u001b[K\rremote: Counting objects:  87% (132/151)\u001b[K\rremote: Counting objects:  88% (133/151)\u001b[K\rremote: Counting objects:  89% (135/151)\u001b[K\rremote: Counting objects:  90% (136/151)\u001b[K\rremote: Counting objects:  91% (138/151)\u001b[K\rremote: Counting objects:  92% (139/151)\u001b[K\rremote: Counting objects:  93% (141/151)\u001b[K\rremote: Counting objects:  94% (142/151)\u001b[K\rremote: Counting objects:  95% (144/151)\u001b[K\rremote: Counting objects:  96% (145/151)\u001b[K\rremote: Counting objects:  97% (147/151)\u001b[K\rremote: Counting objects:  98% (148/151)\u001b[K\rremote: Counting objects:  99% (150/151)\u001b[K\rremote: Counting objects: 100% (151/151)\u001b[K\rremote: Counting objects: 100% (151/151), done.\u001b[K\n",
            "remote: Compressing objects:   1% (1/100)\u001b[K\rremote: Compressing objects:   2% (2/100)\u001b[K\rremote: Compressing objects:   3% (3/100)\u001b[K\rremote: Compressing objects:   4% (4/100)\u001b[K\rremote: Compressing objects:   5% (5/100)\u001b[K\rremote: Compressing objects:   6% (6/100)\u001b[K\rremote: Compressing objects:   7% (7/100)\u001b[K\rremote: Compressing objects:   8% (8/100)\u001b[K\rremote: Compressing objects:   9% (9/100)\u001b[K\rremote: Compressing objects:  10% (10/100)\u001b[K\rremote: Compressing objects:  11% (11/100)\u001b[K\rremote: Compressing objects:  12% (12/100)\u001b[K\rremote: Compressing objects:  13% (13/100)\u001b[K\rremote: Compressing objects:  14% (14/100)\u001b[K\rremote: Compressing objects:  15% (15/100)\u001b[K\rremote: Compressing objects:  16% (16/100)\u001b[K\rremote: Compressing objects:  17% (17/100)\u001b[K\rremote: Compressing objects:  18% (18/100)\u001b[K\rremote: Compressing objects:  19% (19/100)\u001b[K\rremote: Compressing objects:  20% (20/100)\u001b[K\rremote: Compressing objects:  21% (21/100)\u001b[K\rremote: Compressing objects:  22% (22/100)\u001b[K\rremote: Compressing objects:  23% (23/100)\u001b[K\rremote: Compressing objects:  24% (24/100)\u001b[K\rremote: Compressing objects:  25% (25/100)\u001b[K\rremote: Compressing objects:  26% (26/100)\u001b[K\rremote: Compressing objects:  27% (27/100)\u001b[K\rremote: Compressing objects:  28% (28/100)\u001b[K\rremote: Compressing objects:  29% (29/100)\u001b[K\rremote: Compressing objects:  30% (30/100)\u001b[K\rremote: Compressing objects:  31% (31/100)\u001b[K\rremote: Compressing objects:  32% (32/100)\u001b[K\rremote: Compressing objects:  33% (33/100)\u001b[K\rremote: Compressing objects:  34% (34/100)\u001b[K\rremote: Compressing objects:  35% (35/100)\u001b[K\rremote: Compressing objects:  36% (36/100)\u001b[K\rremote: Compressing objects:  37% (37/100)\u001b[K\rremote: Compressing objects:  38% (38/100)\u001b[K\rremote: Compressing objects:  39% (39/100)\u001b[K\rremote: Compressing objects:  40% (40/100)\u001b[K\rremote: Compressing objects:  41% (41/100)\u001b[K\rremote: Compressing objects:  42% (42/100)\u001b[K\rremote: Compressing objects:  43% (43/100)\u001b[K\rremote: Compressing objects:  44% (44/100)\u001b[K\rremote: Compressing objects:  45% (45/100)\u001b[K\rremote: Compressing objects:  46% (46/100)\u001b[K\rremote: Compressing objects:  47% (47/100)\u001b[K\rremote: Compressing objects:  48% (48/100)\u001b[K\rremote: Compressing objects:  49% (49/100)\u001b[K\rremote: Compressing objects:  50% (50/100)\u001b[K\rremote: Compressing objects:  51% (51/100)\u001b[K\rremote: Compressing objects:  52% (52/100)\u001b[K\rremote: Compressing objects:  53% (53/100)\u001b[K\rremote: Compressing objects:  54% (54/100)\u001b[K\rremote: Compressing objects:  55% (55/100)\u001b[K\rremote: Compressing objects:  56% (56/100)\u001b[K\rremote: Compressing objects:  57% (57/100)\u001b[K\rremote: Compressing objects:  58% (58/100)\u001b[K\rremote: Compressing objects:  59% (59/100)\u001b[K\rremote: Compressing objects:  60% (60/100)\u001b[K\rremote: Compressing objects:  61% (61/100)\u001b[K\rremote: Compressing objects:  62% (62/100)\u001b[K\rremote: Compressing objects:  63% (63/100)\u001b[K\rremote: Compressing objects:  64% (64/100)\u001b[K\rremote: Compressing objects:  65% (65/100)\u001b[K\rremote: Compressing objects:  66% (66/100)\u001b[K\rremote: Compressing objects:  67% (67/100)\u001b[K\rremote: Compressing objects:  68% (68/100)\u001b[K\rremote: Compressing objects:  69% (69/100)\u001b[K\rremote: Compressing objects:  70% (70/100)\u001b[K\rremote: Compressing objects:  71% (71/100)\u001b[K\rremote: Compressing objects:  72% (72/100)\u001b[K\rremote: Compressing objects:  73% (73/100)\u001b[K\rremote: Compressing objects:  74% (74/100)\u001b[K\rremote: Compressing objects:  75% (75/100)\u001b[K\rremote: Compressing objects:  76% (76/100)\u001b[K\rremote: Compressing objects:  77% (77/100)\u001b[K\rremote: Compressing objects:  78% (78/100)\u001b[K\rremote: Compressing objects:  79% (79/100)\u001b[K\rremote: Compressing objects:  80% (80/100)\u001b[K\rremote: Compressing objects:  81% (81/100)\u001b[K\rremote: Compressing objects:  82% (82/100)\u001b[K\rremote: Compressing objects:  83% (83/100)\u001b[K\rremote: Compressing objects:  84% (84/100)\u001b[K\rremote: Compressing objects:  85% (85/100)\u001b[K\rremote: Compressing objects:  86% (86/100)\u001b[K\rremote: Compressing objects:  87% (87/100)\u001b[K\rremote: Compressing objects:  88% (88/100)\u001b[K\rremote: Compressing objects:  89% (89/100)\u001b[K\rremote: Compressing objects:  90% (90/100)\u001b[K\rremote: Compressing objects:  91% (91/100)\u001b[K\rremote: Compressing objects:  92% (92/100)\u001b[K\rremote: Compressing objects:  93% (93/100)\u001b[K\rremote: Compressing objects:  94% (94/100)\u001b[K\rremote: Compressing objects:  95% (95/100)\u001b[K\rremote: Compressing objects:  96% (96/100)\u001b[K\rremote: Compressing objects:  97% (97/100)\u001b[K\rremote: Compressing objects:  98% (98/100)\u001b[K\rremote: Compressing objects:  99% (99/100)\u001b[K\rremote: Compressing objects: 100% (100/100)\u001b[K\rremote: Compressing objects: 100% (100/100), done.\u001b[K\n",
            "Receiving objects:   0% (1/629)   \rReceiving objects:   1% (7/629)   \rReceiving objects:   2% (13/629)   \rReceiving objects:   3% (19/629)   \rReceiving objects:   4% (26/629)   \rReceiving objects:   5% (32/629)   \rReceiving objects:   6% (38/629)   \rReceiving objects:   7% (45/629)   \rReceiving objects:   8% (51/629)   \rReceiving objects:   9% (57/629)   \rReceiving objects:  10% (63/629)   \rReceiving objects:  11% (70/629)   \rReceiving objects:  12% (76/629)   \rReceiving objects:  13% (82/629)   \rReceiving objects:  14% (89/629)   \rReceiving objects:  15% (95/629)   \rReceiving objects:  16% (101/629)   \rReceiving objects:  17% (107/629)   \rReceiving objects:  18% (114/629)   \rReceiving objects:  19% (120/629)   \rReceiving objects:  20% (126/629)   \rReceiving objects:  21% (133/629)   \rReceiving objects:  22% (139/629)   \rReceiving objects:  23% (145/629)   \rReceiving objects:  24% (151/629)   \rReceiving objects:  25% (158/629)   \rReceiving objects:  26% (164/629)   \rReceiving objects:  27% (170/629)   \rReceiving objects:  28% (177/629)   \rReceiving objects:  29% (183/629)   \rReceiving objects:  30% (189/629)   \rReceiving objects:  31% (195/629)   \rReceiving objects:  32% (202/629)   \rReceiving objects:  33% (208/629)   \rReceiving objects:  34% (214/629)   \rReceiving objects:  35% (221/629)   \rReceiving objects:  36% (227/629)   \rReceiving objects:  37% (233/629)   \rReceiving objects:  38% (240/629)   \rReceiving objects:  39% (246/629)   \rReceiving objects:  40% (252/629)   \rReceiving objects:  41% (258/629)   \rReceiving objects:  42% (265/629)   \rReceiving objects:  43% (271/629)   \rReceiving objects:  44% (277/629)   \rReceiving objects:  45% (284/629)   \rReceiving objects:  46% (290/629)   \rReceiving objects:  47% (296/629)   \rReceiving objects:  48% (302/629)   \rReceiving objects:  49% (309/629)   \rReceiving objects:  50% (315/629)   \rReceiving objects:  51% (321/629)   \rReceiving objects:  52% (328/629)   \rReceiving objects:  53% (334/629)   \rReceiving objects:  54% (340/629)   \rReceiving objects:  55% (346/629)   \rReceiving objects:  56% (353/629)   \rReceiving objects:  57% (359/629)   \rReceiving objects:  58% (365/629)   \rReceiving objects:  59% (372/629)   \rReceiving objects:  60% (378/629)   \rReceiving objects:  61% (384/629)   \rReceiving objects:  62% (390/629)   \rReceiving objects:  63% (397/629)   \rReceiving objects:  64% (403/629)   \rReceiving objects:  65% (409/629)   \rReceiving objects:  66% (416/629)   \rReceiving objects:  67% (422/629)   \rReceiving objects:  68% (428/629)   \rReceiving objects:  69% (435/629)   \rReceiving objects:  70% (441/629)   \rReceiving objects:  71% (447/629)   \rReceiving objects:  72% (453/629)   \rReceiving objects:  73% (460/629)   \rReceiving objects:  74% (466/629)   \rReceiving objects:  75% (472/629)   \rReceiving objects:  76% (479/629)   \rReceiving objects:  77% (485/629)   \rReceiving objects:  78% (491/629)   \rReceiving objects:  79% (497/629)   \rremote: Total 629 (delta 82), reused 107 (delta 50), pack-reused 478\u001b[K\n",
            "Receiving objects: 100% (629/629), 286.74 KiB | 3.45 MiB/s, done.\n",
            "Resolving deltas: 100% (362/362), done.\n"
          ],
          "name": "stdout"
        }
      ]
    },
    {
      "cell_type": "code",
      "metadata": {
        "id": "0XnbGVmGiQaC",
        "colab_type": "code",
        "outputId": "50371b38-ed1b-4af9-f544-f282b107119e",
        "colab": {
          "base_uri": "https://localhost:8080/",
          "height": 85
        }
      },
      "source": [
        "!nvcc -V"
      ],
      "execution_count": 0,
      "outputs": [
        {
          "output_type": "stream",
          "text": [
            "nvcc: NVIDIA (R) Cuda compiler driver\n",
            "Copyright (c) 2005-2019 NVIDIA Corporation\n",
            "Built on Sun_Jul_28_19:07:16_PDT_2019\n",
            "Cuda compilation tools, release 10.1, V10.1.243\n"
          ],
          "name": "stdout"
        }
      ]
    },
    {
      "cell_type": "code",
      "metadata": {
        "id": "rP9gdkzliQej",
        "colab_type": "code",
        "outputId": "6ab0d3ca-0078-4796-b8a3-61a8b80fa4ac",
        "colab": {
          "base_uri": "https://localhost:8080/",
          "height": 204
        }
      },
      "source": [
        "!wget https://download.pytorch.org/libtorch/cu101/libtorch-cxx11-abi-shared-with-deps-1.4.0.zip"
      ],
      "execution_count": 0,
      "outputs": [
        {
          "output_type": "stream",
          "text": [
            "--2020-03-04 08:11:40--  https://download.pytorch.org/libtorch/cu101/libtorch-cxx11-abi-shared-with-deps-1.4.0.zip\n",
            "Resolving download.pytorch.org (download.pytorch.org)... 13.226.42.64, 13.226.42.89, 13.226.42.62, ...\n",
            "Connecting to download.pytorch.org (download.pytorch.org)|13.226.42.64|:443... connected.\n",
            "HTTP request sent, awaiting response... 200 OK\n",
            "Length: 762860883 (728M) [application/zip]\n",
            "Saving to: ‘libtorch-cxx11-abi-shared-with-deps-1.4.0.zip’\n",
            "\n",
            "libtorch-cxx11-abi- 100%[===================>] 727.52M  46.4MB/s    in 15s     \n",
            "\n",
            "2020-03-04 08:11:55 (49.9 MB/s) - ‘libtorch-cxx11-abi-shared-with-deps-1.4.0.zip’ saved [762860883/762860883]\n",
            "\n"
          ],
          "name": "stdout"
        }
      ]
    },
    {
      "cell_type": "code",
      "metadata": {
        "id": "ht-lvtbhiQom",
        "colab_type": "code",
        "colab": {}
      },
      "source": [
        "!cp libtorch-cxx11-abi-shared-with-deps-1.4.0.zip libtorch-cxx11-abi-shared-with-deps-1.4.0.gz"
      ],
      "execution_count": 0,
      "outputs": []
    },
    {
      "cell_type": "code",
      "metadata": {
        "id": "W2iWFSH-iQmB",
        "colab_type": "code",
        "colab": {}
      },
      "source": [
        "!unzip libtorch-cxx11-abi-shared-with-deps-1.4.0.gz"
      ],
      "execution_count": 0,
      "outputs": []
    },
    {
      "cell_type": "code",
      "metadata": {
        "id": "kIRz6J-_m06h",
        "colab_type": "code",
        "outputId": "89bf5395-067b-4492-a036-c1b5ab808111",
        "colab": {
          "base_uri": "https://localhost:8080/",
          "height": 51
        }
      },
      "source": [
        "!pwd"
      ],
      "execution_count": 0,
      "outputs": [
        {
          "output_type": "stream",
          "text": [
            "shell-init: error retrieving current directory: getcwd: cannot access parent directories: No such file or directory\n",
            "pwd: error retrieving current directory: getcwd: cannot access parent directories: No such file or directory\n"
          ],
          "name": "stdout"
        }
      ]
    },
    {
      "cell_type": "code",
      "metadata": {
        "id": "71G5-40om091",
        "colab_type": "code",
        "outputId": "91cb51a1-697f-4d81-ece6-87a45f8a337c",
        "colab": {
          "base_uri": "https://localhost:8080/",
          "height": 34
        }
      },
      "source": [
        "!pwd"
      ],
      "execution_count": 0,
      "outputs": [
        {
          "output_type": "stream",
          "text": [
            "/content/drive/My Drive/shogi/cpp_shogi/build\n"
          ],
          "name": "stdout"
        }
      ]
    },
    {
      "cell_type": "code",
      "metadata": {
        "id": "eNxlInPpm1An",
        "colab_type": "code",
        "colab": {}
      },
      "source": [
        "!mkdir build"
      ],
      "execution_count": 0,
      "outputs": []
    },
    {
      "cell_type": "code",
      "metadata": {
        "id": "fS1to97Tm1DW",
        "colab_type": "code",
        "outputId": "dc41c696-fa59-4e9c-b4cc-d62249233087",
        "colab": {
          "base_uri": "https://localhost:8080/",
          "height": 34
        }
      },
      "source": [
        "%cd build"
      ],
      "execution_count": 0,
      "outputs": [
        {
          "output_type": "stream",
          "text": [
            "/content/drive/My Drive/shogi/cpp_shogi/cpp_shogi/src/build\n"
          ],
          "name": "stdout"
        }
      ]
    },
    {
      "cell_type": "code",
      "metadata": {
        "id": "XFnfDg-Vm1Ft",
        "colab_type": "code",
        "outputId": "d18dc8ad-f538-4c91-c456-4fafa1eb8e59",
        "colab": {
          "base_uri": "https://localhost:8080/",
          "height": 428
        }
      },
      "source": [
        "!cmake .."
      ],
      "execution_count": 0,
      "outputs": [
        {
          "output_type": "stream",
          "text": [
            "-- Looking for C++ include pthread.h\n",
            "-- Looking for C++ include pthread.h - found\n",
            "-- Looking for pthread_create\n",
            "-- Looking for pthread_create - not found\n",
            "-- Looking for pthread_create in pthreads\n",
            "-- Looking for pthread_create in pthreads - not found\n",
            "-- Looking for pthread_create in pthread\n",
            "-- Looking for pthread_create in pthread - found\n",
            "-- Found Threads: TRUE  \n",
            "-- Found CUDA: /usr/local/cuda (found version \"10.1\") \n",
            "-- Caffe2: CUDA detected: 10.1\n",
            "-- Caffe2: CUDA nvcc is: /usr/local/cuda/bin/nvcc\n",
            "-- Caffe2: CUDA toolkit directory: /usr/local/cuda\n",
            "-- Caffe2: Header version is: 10.1\n",
            "-- Found CUDNN: /usr/lib/x86_64-linux-gnu/libcudnn.so  \n",
            "-- Found cuDNN: v7.6.5  (include: /usr/include, library: /usr/lib/x86_64-linux-gnu/libcudnn.so)\n",
            "-- Automatic GPU detection failed. Building for common architectures.\n",
            "-- Autodetected CUDA architecture(s): 3.5;5.0;5.2;6.0;6.1;7.0;7.0+PTX;7.5;7.5+PTX\n",
            "-- Added CUDA NVCC flags for: -gencode;arch=compute_35,code=sm_35;-gencode;arch=compute_50,code=sm_50;-gencode;arch=compute_52,code=sm_52;-gencode;arch=compute_60,code=sm_60;-gencode;arch=compute_61,code=sm_61;-gencode;arch=compute_70,code=sm_70;-gencode;arch=compute_75,code=sm_75;-gencode;arch=compute_70,code=compute_70;-gencode;arch=compute_75,code=compute_75\n",
            "-- Found torch: /content/libtorch/lib/libtorch.so  \n",
            "-- Configuring done\n",
            "-- Generating done\n",
            "-- Build files have been written to: /content/drive/My Drive/shogi/cpp_shogi/cpp_shogi/src/build\n"
          ],
          "name": "stdout"
        }
      ]
    },
    {
      "cell_type": "code",
      "metadata": {
        "id": "HlEsr0gRm1If",
        "colab_type": "code",
        "outputId": "ee7e2346-341e-491a-a9a3-c4765ce866ab",
        "colab": {
          "base_uri": "https://localhost:8080/",
          "height": 816
        }
      },
      "source": [
        "!make"
      ],
      "execution_count": 0,
      "outputs": [
        {
          "output_type": "stream",
          "text": [
            "\u001b[35m\u001b[1mScanning dependencies of target cpp_shogi\u001b[0m\n",
            "[ -4%] \u001b[32mBuilding CXX object CMakeFiles/cpp_shogi.dir/attack.cpp.o\u001b[0m\n",
            "[  0%] \u001b[32mBuilding CXX object CMakeFiles/cpp_shogi.dir/bit.cpp.o\u001b[0m\n",
            "[  4%] \u001b[32mBuilding CXX object CMakeFiles/cpp_shogi.dir/common.cpp.o\u001b[0m\n",
            "[  8%] \u001b[32mBuilding CXX object CMakeFiles/cpp_shogi.dir/eval.cpp.o\u001b[0m\n",
            "[ 12%] \u001b[32mBuilding CXX object CMakeFiles/cpp_shogi.dir/gen.cpp.o\u001b[0m\n",
            "[ 16%] \u001b[32mBuilding CXX object CMakeFiles/cpp_shogi.dir/hash.cpp.o\u001b[0m\n",
            "[ 20%] \u001b[32mBuilding CXX object CMakeFiles/cpp_shogi.dir/libmy.cpp.o\u001b[0m\n",
            "[ 25%] \u001b[32mBuilding CXX object CMakeFiles/cpp_shogi.dir/main.cpp.o\u001b[0m\n",
            "[ 29%] \u001b[32mBuilding CXX object CMakeFiles/cpp_shogi.dir/math.cpp.o\u001b[0m\n",
            "[ 33%] \u001b[32mBuilding CXX object CMakeFiles/cpp_shogi.dir/move.cpp.o\u001b[0m\n",
            "\u001b[01m\u001b[K/content/drive/My Drive/shogi/cpp_shogi/cpp_shogi/src/move.cpp:\u001b[m\u001b[K In function ‘\u001b[01m\u001b[Kbool move::pseudo_is_legal_debug(Move, const Pos&)\u001b[m\u001b[K’:\n",
            "\u001b[01m\u001b[K/content/drive/My Drive/shogi/cpp_shogi/cpp_shogi/src/move.cpp:69:40:\u001b[m\u001b[K \u001b[01;35m\u001b[Kwarning: \u001b[m\u001b[Kunused parameter ‘\u001b[01m\u001b[Kmv\u001b[m\u001b[K’ [\u001b[01;35m\u001b[K-Wunused-parameter\u001b[m\u001b[K]\n",
            "  bool pseudo_is_legal_debug(const Move \u001b[01;35m\u001b[Kmv\u001b[m\u001b[K, const Pos& pos) {\n",
            "                                        \u001b[01;35m\u001b[K^~\u001b[m\u001b[K\n",
            "\u001b[01m\u001b[K/content/drive/My Drive/shogi/cpp_shogi/cpp_shogi/src/move.cpp:69:55:\u001b[m\u001b[K \u001b[01;35m\u001b[Kwarning: \u001b[m\u001b[Kunused parameter ‘\u001b[01m\u001b[Kpos\u001b[m\u001b[K’ [\u001b[01;35m\u001b[K-Wunused-parameter\u001b[m\u001b[K]\n",
            "  bool pseudo_is_legal_debug(const Move mv, const Pos& \u001b[01;35m\u001b[Kpos\u001b[m\u001b[K) {\n",
            "                                                       \u001b[01;35m\u001b[K^~~\u001b[m\u001b[K\n",
            "[ 37%] \u001b[32mBuilding CXX object CMakeFiles/cpp_shogi.dir/nn.cpp.o\u001b[0m\n",
            "[ 41%] \u001b[32mBuilding CXX object CMakeFiles/cpp_shogi.dir/hand.cpp.o\u001b[0m\n",
            "[ 45%] \u001b[32mBuilding CXX object CMakeFiles/cpp_shogi.dir/pos.cpp.o\u001b[0m\n",
            "\u001b[01m\u001b[K/content/drive/My Drive/shogi/cpp_shogi/cpp_shogi/src/pos.cpp:328:14:\u001b[m\u001b[K \u001b[01;35m\u001b[Kwarning: \u001b[m\u001b[K‘\u001b[01m\u001b[Kvoid pos::test_gen()\u001b[m\u001b[K’ defined but not used [\u001b[01;35m\u001b[K-Wunused-function\u001b[m\u001b[K]\n",
            "  static void \u001b[01;35m\u001b[Ktest_gen\u001b[m\u001b[K() {\n",
            "              \u001b[01;35m\u001b[K^~~~~~~~\u001b[m\u001b[K\n",
            "[ 50%] \u001b[32mBuilding CXX object CMakeFiles/cpp_shogi.dir/score.cpp.o\u001b[0m\n",
            "[ 54%] \u001b[32mBuilding CXX object CMakeFiles/cpp_shogi.dir/search.cpp.o\u001b[0m\n",
            "[ 58%] \u001b[32mBuilding CXX object CMakeFiles/cpp_shogi.dir/sfen.cpp.o\u001b[0m\n",
            "[ 62%] \u001b[32mBuilding CXX object CMakeFiles/cpp_shogi.dir/sort.cpp.o\u001b[0m\n",
            "[ 66%] \u001b[32mBuilding CXX object CMakeFiles/cpp_shogi.dir/selfplay.cpp.o\u001b[0m\n",
            "\u001b[01m\u001b[K/content/drive/My Drive/shogi/cpp_shogi/cpp_shogi/src/selfplay.cpp:\u001b[m\u001b[K In member function ‘\u001b[01m\u001b[Kvoid SelfPlay::episode()\u001b[m\u001b[K’:\n",
            "\u001b[01m\u001b[K/content/drive/My Drive/shogi/cpp_shogi/cpp_shogi/src/selfplay.cpp:46:13:\u001b[m\u001b[K \u001b[01;35m\u001b[Kwarning: \u001b[m\u001b[Kcomparison between signed and unsigned integer expressions [\u001b[01;35m\u001b[K-Wsign-compare\u001b[m\u001b[K]\n",
            "    if (\u001b[01;35m\u001b[Ktesu < rand_tesu\u001b[m\u001b[K) {\n",
            "        \u001b[01;35m\u001b[K~~~~~^~~~~~~~~~~\u001b[m\u001b[K\n",
            "\u001b[01m\u001b[K/content/drive/My Drive/shogi/cpp_shogi/cpp_shogi/src/selfplay.cpp:64:12:\u001b[m\u001b[K \u001b[01;35m\u001b[Kwarning: \u001b[m\u001b[Kcomparison between signed and unsigned integer expressions [\u001b[01;35m\u001b[K-Wsign-compare\u001b[m\u001b[K]\n",
            "   if (\u001b[01;35m\u001b[Ktesu < rand_tesu\u001b[m\u001b[K) {\n",
            "       \u001b[01;35m\u001b[K~~~~~^~~~~~~~~~~\u001b[m\u001b[K\n",
            "[ 70%] \u001b[32mBuilding CXX object CMakeFiles/cpp_shogi.dir/thread.cpp.o\u001b[0m\n",
            "[ 75%] \u001b[32mBuilding CXX object CMakeFiles/cpp_shogi.dir/tt.cpp.o\u001b[0m\n",
            "[ 79%] \u001b[32mBuilding CXX object CMakeFiles/cpp_shogi.dir/uct.cpp.o\u001b[0m\n",
            "\u001b[01m\u001b[K/content/drive/My Drive/shogi/cpp_shogi/cpp_shogi/src/uct.cpp:\u001b[m\u001b[K In function ‘\u001b[01m\u001b[KChildNode* select_child(UCTNode*, const Pos&)\u001b[m\u001b[K’:\n",
            "\u001b[01m\u001b[K/content/drive/My Drive/shogi/cpp_shogi/cpp_shogi/src/uct.cpp:200:51:\u001b[m\u001b[K \u001b[01;35m\u001b[Kwarning: \u001b[m\u001b[Kunused parameter ‘\u001b[01m\u001b[Kpos\u001b[m\u001b[K’ [\u001b[01;35m\u001b[K-Wunused-parameter\u001b[m\u001b[K]\n",
            " ChildNode* select_child(UCTNode* node, const Pos& \u001b[01;35m\u001b[Kpos\u001b[m\u001b[K) {\n",
            "                                                   \u001b[01;35m\u001b[K^~~\u001b[m\u001b[K\n",
            "[ 83%] \u001b[32mBuilding CXX object CMakeFiles/cpp_shogi.dir/util.cpp.o\u001b[0m\n",
            "[ 87%] \u001b[32mBuilding CXX object CMakeFiles/cpp_shogi.dir/var.cpp.o\u001b[0m\n",
            "[ 91%] \u001b[32m\u001b[1mLinking CXX executable cpp_shogi\u001b[0m\n",
            "[ 91%] Built target cpp_shogi\n"
          ],
          "name": "stdout"
        }
      ]
    },
    {
      "cell_type": "code",
      "metadata": {
        "id": "evlAx4Auqeol",
        "colab_type": "code",
        "outputId": "bc391eb9-b249-4cce-c808-0ed99d028c94",
        "colab": {
          "base_uri": "https://localhost:8080/",
          "height": 34
        }
      },
      "source": [
        "!pwd"
      ],
      "execution_count": 0,
      "outputs": [
        {
          "output_type": "stream",
          "text": [
            "/content/drive/My Drive/shogi/cpp_shogi/cpp_shogi/src/build\n"
          ],
          "name": "stdout"
        }
      ]
    },
    {
      "cell_type": "code",
      "metadata": {
        "id": "0HHMjfTTqerv",
        "colab_type": "code",
        "colab": {}
      },
      "source": [
        "!./cpp_shogi"
      ],
      "execution_count": 0,
      "outputs": []
    },
    {
      "cell_type": "code",
      "metadata": {
        "id": "EzI1dgLOqewq",
        "colab_type": "code",
        "colab": {}
      },
      "source": [
        ""
      ],
      "execution_count": 0,
      "outputs": []
    },
    {
      "cell_type": "code",
      "metadata": {
        "id": "_gdbrNAqqezJ",
        "colab_type": "code",
        "colab": {}
      },
      "source": [
        ""
      ],
      "execution_count": 0,
      "outputs": []
    },
    {
      "cell_type": "code",
      "metadata": {
        "id": "dgCc8jxJqeu2",
        "colab_type": "code",
        "colab": {}
      },
      "source": [
        ""
      ],
      "execution_count": 0,
      "outputs": []
    },
    {
      "cell_type": "code",
      "metadata": {
        "id": "IjrmvReLqel9",
        "colab_type": "code",
        "colab": {}
      },
      "source": [
        ""
      ],
      "execution_count": 0,
      "outputs": []
    },
    {
      "cell_type": "code",
      "metadata": {
        "id": "PtfKxgAbqekD",
        "colab_type": "code",
        "colab": {}
      },
      "source": [
        ""
      ],
      "execution_count": 0,
      "outputs": []
    }
  ]
}